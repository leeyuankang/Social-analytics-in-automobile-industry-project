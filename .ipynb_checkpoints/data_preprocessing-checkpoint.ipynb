{
 "cells": [
  {
   "cell_type": "code",
   "execution_count": 226,
   "metadata": {},
   "outputs": [],
   "source": [
    "import pandas as pd\n",
    "import numpy as np\n",
    "import re\n",
    "import nltk\n",
    "from nltk.corpus import stopwords\n",
    "from nltk.tokenize import word_tokenize\n",
    "from nltk.stem import PorterStemmer\n",
    "import string"
   ]
  },
  {
   "cell_type": "code",
   "execution_count": 310,
   "metadata": {},
   "outputs": [],
   "source": [
    "df = pd.read_json (r'SGC_data/Audi.json')\n",
    "\n",
    "df = df.dropna()\n"
   ]
  },
  {
   "cell_type": "code",
   "execution_count": 311,
   "metadata": {},
   "outputs": [],
   "source": [
    "ps = PorterStemmer()\n",
    "def review_replace(x):\n",
    "    x = x.replace('\\n', '')\n",
    "    x = x.replace('\\t', '')\n",
    "    x = x.replace('review', '')\n",
    "    return x\n",
    "\n",
    "def stop_stem(x):\n",
    "    stop = stopwords.words('english')\n",
    "    new = []\n",
    "    #remove stopwords\n",
    "    x = ' '.join([word for word in x.split() if word not in (stop)])\n",
    "#     x = ' '.join(x for x in s if x.isalpha())\n",
    "#     x = re.sub(r'[^\\w\\s]','',x)\n",
    "#     words = word_tokenize(x)\n",
    "#     for w in words:\n",
    "#         new.append(ps.stem(w))\n",
    "#     x = ' '.join(new)\n",
    "    return x\n",
    "\n",
    "# df['review'][1].lower().replace('review', '')"
   ]
  },
  {
   "cell_type": "code",
   "execution_count": 312,
   "metadata": {},
   "outputs": [],
   "source": [
    "df['review_cleaned'] = df['review'].apply(lambda x: str.lower(x))\n",
    "df['review_cleaned'] = df['review_cleaned'].apply(lambda x: review_replace(x))\n",
    "# df['review']"
   ]
  },
  {
   "cell_type": "code",
   "execution_count": 313,
   "metadata": {},
   "outputs": [
    {
     "data": {
      "text/plain": [
       "0     bought 2019 facelift edition, whose interior m...\n",
       "1     likepricepowertrain comfort. 2019 new front di...\n",
       "2     like19.2 km/l fuel consumption paper, however ...\n",
       "3     bought 2019 minor facelift 2.0l audi. first au...\n",
       "4     like- virtual cockpit - handling- engine power...\n",
       "5     like- lack memory seat- 16\" alloy rim, makes t...\n",
       "6     pros: vc really game changergood quality inter...\n",
       "7     pros: vc really game changergood quality inter...\n",
       "8     good price power delivers. disappointing inclu...\n",
       "9     likethe power delivers.the interior cosy.the g...\n",
       "10    likethe centre piece back row high.driving pos...\n",
       "11    coming volvo, 2l car 10km/l consumption compar...\n",
       "12       like- fuel consumption- power- virtual cockpit\n",
       "13    like- keyless entry sometime required many pre...\n",
       "14    driven 1.4 car 10,000km giving another car. ge...\n",
       "15    decided a3 first car due price point. got 110k...\n",
       "16    likefuel consumptiondynamic running lightssize...\n",
       "17    likestart stop systemno audi logo enginewind n...\n",
       "18    1.0 l engine, power output consider good issue...\n",
       "19    likedecent build qualitynice driving experienc...\n",
       "20    likesteering feels light meoptional upgrades m...\n",
       "21    i've driving a3 1.5mths. collect end jan. boug...\n",
       "22    like- 1.0 turbocharged engine translates cheap...\n",
       "23    like- usb input/outputâ€¨- apple carplayâ€¨- c...\n",
       "24    bought a3 sedan audi online sale event last mo...\n",
       "25    like- solid chasis- 1.0 turbocharged engine tr...\n",
       "26    like** missing- quick release boot inside cabi...\n",
       "27    1.0t car quiet, solid chasis, nice handling fc...\n",
       "28    likequietstill maintain multimedia system engi...\n",
       "29    likemultimedia unit usbaudi app much featuresl...\n",
       "30    bought white audi q2 1.4 turbo tfsi engine las...\n",
       "31    likegreat look externally internally powerful ...\n",
       "32    likesome models come usb jacks gpssuspension s...\n",
       "33    really like stylish car sportback profile sets...\n",
       "34    like- stylish looks- premium interior quality-...\n",
       "35    test driven new a6 last weekend. must say asto...\n",
       "36    likenewly flushed interior powerful drive pred...\n",
       "37    got new car 26 december 2014 premium auto. thr...\n",
       "38    like-solid build-good range features (safety d...\n",
       "39    like- noticeable lag standstill- navigation so...\n",
       "40    q3 easy drive. test drove car months ago notic...\n",
       "41                like1. easy drive.2. suv sporty look.\n",
       "42    like1. basic interior.2. basic sound system fe...\n",
       "43    audi q7 arguably best 7 seater premium suv mar...\n",
       "44    recently bought ad 3l instead 2l basic model l...\n",
       "45                likethe overall car performance look.\n",
       "46    likeobviously - carplay support! love technolo...\n",
       "47    driven 2x, audi sport event try quattro time d...\n",
       "48    likemany features gadgetsglass sunroofaudi vir...\n",
       "49    virtual cockpit amazing, never seen really exc...\n",
       "50    like1. virtual cockpit.2. sporty fierce exteri...\n",
       "51    likewhat like1. slightly lower height rear pas...\n",
       "52    never fan audi virtual cockpit called (especia...\n",
       "Name: review_cleaned, dtype: object"
      ]
     },
     "execution_count": 313,
     "metadata": {},
     "output_type": "execute_result"
    }
   ],
   "source": [
    "df['review_cleaned'] = df['review_cleaned'].apply(lambda x: stop_stem(x))\n",
    "df['review_cleaned']"
   ]
  },
  {
   "cell_type": "code",
   "execution_count": 290,
   "metadata": {
    "scrolled": true
   },
   "outputs": [
    {
     "data": {
      "text/html": [
       "<div>\n",
       "<style scoped>\n",
       "    .dataframe tbody tr th:only-of-type {\n",
       "        vertical-align: middle;\n",
       "    }\n",
       "\n",
       "    .dataframe tbody tr th {\n",
       "        vertical-align: top;\n",
       "    }\n",
       "\n",
       "    .dataframe thead th {\n",
       "        text-align: right;\n",
       "    }\n",
       "</style>\n",
       "<table border=\"1\" class=\"dataframe\">\n",
       "  <thead>\n",
       "    <tr style=\"text-align: right;\">\n",
       "      <th></th>\n",
       "      <th>brand</th>\n",
       "      <th>car_name</th>\n",
       "      <th>price</th>\n",
       "      <th>review</th>\n",
       "      <th>review_cleaned</th>\n",
       "      <th>user_name</th>\n",
       "    </tr>\n",
       "  </thead>\n",
       "  <tbody>\n",
       "    <tr>\n",
       "      <th>6</th>\n",
       "      <td>Audi</td>\n",
       "      <td>Audi A4 Sedan</td>\n",
       "      <td>$188,016</td>\n",
       "      <td>ReviewBought the 2019 facelift edition, whose ...</td>\n",
       "      <td>bought 2019 facelift edition whose interior mu...</td>\n",
       "      <td>josephannnn</td>\n",
       "    </tr>\n",
       "    <tr>\n",
       "      <th>7</th>\n",
       "      <td>Audi</td>\n",
       "      <td>Audi A3 Sedan</td>\n",
       "      <td>$136,460</td>\n",
       "      <td>ReviewDecided on the A3 as my first car due to...</td>\n",
       "      <td>decided a3 first car due price point got 110k ...</td>\n",
       "      <td>Bernardongg</td>\n",
       "    </tr>\n",
       "    <tr>\n",
       "      <th>8</th>\n",
       "      <td>Audi</td>\n",
       "      <td>Audi Q2</td>\n",
       "      <td>$140,776</td>\n",
       "      <td>ReviewBought my white Audi Q2 1.4 turbo TFSI e...</td>\n",
       "      <td>bought white audi q2 14 turbo tfsi engine last...</td>\n",
       "      <td>DariusLim_195334</td>\n",
       "    </tr>\n",
       "    <tr>\n",
       "      <th>9</th>\n",
       "      <td>Audi</td>\n",
       "      <td>Audi A5 Sportback</td>\n",
       "      <td>$204,900</td>\n",
       "      <td>ReviewReally like this stylish car as its spor...</td>\n",
       "      <td>ally like stylish car sportback profile sets a...</td>\n",
       "      <td>Lotr</td>\n",
       "    </tr>\n",
       "    <tr>\n",
       "      <th>11</th>\n",
       "      <td>Audi</td>\n",
       "      <td>Audi A6 Sedan Mild Hybrid</td>\n",
       "      <td>$242,500</td>\n",
       "      <td>ReviewTest driven this new A6 last weekend. Mu...</td>\n",
       "      <td>test driven new a6 last weekend must say aston...</td>\n",
       "      <td>Mervynwm</td>\n",
       "    </tr>\n",
       "    <tr>\n",
       "      <th>13</th>\n",
       "      <td>Audi</td>\n",
       "      <td>Audi A3 Sportback</td>\n",
       "      <td>$134,250</td>\n",
       "      <td>ReviewGot my new car 26 December 2014 from Pre...</td>\n",
       "      <td>got new car 26 december 2014 premium auto thre...</td>\n",
       "      <td>vbchia</td>\n",
       "    </tr>\n",
       "    <tr>\n",
       "      <th>15</th>\n",
       "      <td>Audi</td>\n",
       "      <td>Audi Q3(Parallel Imported)</td>\n",
       "      <td>$165,000</td>\n",
       "      <td>ReviewQ3 is easy to drive. Test drove this car...</td>\n",
       "      <td>q3 easy drive test drove car months ago notice...</td>\n",
       "      <td>BMWX1</td>\n",
       "    </tr>\n",
       "    <tr>\n",
       "      <th>17</th>\n",
       "      <td>Audi</td>\n",
       "      <td>Audi Q7</td>\n",
       "      <td>$307,800</td>\n",
       "      <td>ReviewThe Audi Q7 is arguably the best 7 seate...</td>\n",
       "      <td>audi q7 arguably best 7 seater premium suv mar...</td>\n",
       "      <td>Nivlek96</td>\n",
       "    </tr>\n",
       "    <tr>\n",
       "      <th>19</th>\n",
       "      <td>Audi</td>\n",
       "      <td>Audi A5 Coupe</td>\n",
       "      <td>$209,600</td>\n",
       "      <td>ReviewThe Virtual Cockpit is too amazing, have...</td>\n",
       "      <td>virtual cockpit amazing never seen really exci...</td>\n",
       "      <td>Edminski</td>\n",
       "    </tr>\n",
       "  </tbody>\n",
       "</table>\n",
       "</div>"
      ],
      "text/plain": [
       "   brand                    car_name      price  \\\n",
       "6   Audi               Audi A4 Sedan  $188,016    \n",
       "7   Audi               Audi A3 Sedan  $136,460    \n",
       "8   Audi                     Audi Q2  $140,776    \n",
       "9   Audi           Audi A5 Sportback  $204,900    \n",
       "11  Audi   Audi A6 Sedan Mild Hybrid  $242,500    \n",
       "13  Audi           Audi A3 Sportback  $134,250    \n",
       "15  Audi  Audi Q3(Parallel Imported)   $165,000   \n",
       "17  Audi                     Audi Q7  $307,800    \n",
       "19  Audi               Audi A5 Coupe  $209,600    \n",
       "\n",
       "                                               review  \\\n",
       "6   ReviewBought the 2019 facelift edition, whose ...   \n",
       "7   ReviewDecided on the A3 as my first car due to...   \n",
       "8   ReviewBought my white Audi Q2 1.4 turbo TFSI e...   \n",
       "9   ReviewReally like this stylish car as its spor...   \n",
       "11  ReviewTest driven this new A6 last weekend. Mu...   \n",
       "13  ReviewGot my new car 26 December 2014 from Pre...   \n",
       "15  ReviewQ3 is easy to drive. Test drove this car...   \n",
       "17  ReviewThe Audi Q7 is arguably the best 7 seate...   \n",
       "19  ReviewThe Virtual Cockpit is too amazing, have...   \n",
       "\n",
       "                                       review_cleaned         user_name  \n",
       "6   bought 2019 facelift edition whose interior mu...       josephannnn  \n",
       "7   decided a3 first car due price point got 110k ...       Bernardongg  \n",
       "8   bought white audi q2 14 turbo tfsi engine last...  DariusLim_195334  \n",
       "9   ally like stylish car sportback profile sets a...              Lotr  \n",
       "11  test driven new a6 last weekend must say aston...          Mervynwm  \n",
       "13  got new car 26 december 2014 premium auto thre...            vbchia  \n",
       "15  q3 easy drive test drove car months ago notice...             BMWX1  \n",
       "17  audi q7 arguably best 7 seater premium suv mar...          Nivlek96  \n",
       "19  virtual cockpit amazing never seen really exci...          Edminski  "
      ]
     },
     "execution_count": 290,
     "metadata": {},
     "output_type": "execute_result"
    }
   ],
   "source": [
    "columnsTitles = ['brand', 'car_name', 'price', 'review', 'review_cleaned', 'user_name']\n",
    "df.reindex(columns=columnsTitles)"
   ]
  },
  {
   "cell_type": "code",
   "execution_count": 315,
   "metadata": {},
   "outputs": [
    {
     "data": {
      "text/html": [
       "<div>\n",
       "<style scoped>\n",
       "    .dataframe tbody tr th:only-of-type {\n",
       "        vertical-align: middle;\n",
       "    }\n",
       "\n",
       "    .dataframe tbody tr th {\n",
       "        vertical-align: top;\n",
       "    }\n",
       "\n",
       "    .dataframe thead th {\n",
       "        text-align: right;\n",
       "    }\n",
       "</style>\n",
       "<table border=\"1\" class=\"dataframe\">\n",
       "  <thead>\n",
       "    <tr style=\"text-align: right;\">\n",
       "      <th></th>\n",
       "      <th>brand</th>\n",
       "      <th>car_name</th>\n",
       "      <th>price</th>\n",
       "      <th>review</th>\n",
       "      <th>user_name</th>\n",
       "      <th>review_cleaned</th>\n",
       "    </tr>\n",
       "  </thead>\n",
       "  <tbody>\n",
       "    <tr>\n",
       "      <th>0</th>\n",
       "      <td>Audi</td>\n",
       "      <td>Audi A4 Sedan</td>\n",
       "      <td>$188,016</td>\n",
       "      <td>ReviewBought the 2019 facelift edition, whose ...</td>\n",
       "      <td>josephannnn</td>\n",
       "      <td>bought 2019 facelift edition, whose interior m...</td>\n",
       "    </tr>\n",
       "    <tr>\n",
       "      <th>1</th>\n",
       "      <td>Audi</td>\n",
       "      <td>Audi A4 Sedan</td>\n",
       "      <td>$188,016</td>\n",
       "      <td>What I likePrice\\n\\nPowertrain and comfort. \\n...</td>\n",
       "      <td>maxsee333</td>\n",
       "      <td>likepricepowertrain comfort. 2019 new front di...</td>\n",
       "    </tr>\n",
       "    <tr>\n",
       "      <th>2</th>\n",
       "      <td>Audi</td>\n",
       "      <td>Audi A4 Sedan</td>\n",
       "      <td>$188,016</td>\n",
       "      <td>What I do not like19.2 Km/L fuel consumption o...</td>\n",
       "      <td>Brownbeard</td>\n",
       "      <td>like19.2 km/l fuel consumption paper, however ...</td>\n",
       "    </tr>\n",
       "    <tr>\n",
       "      <th>3</th>\n",
       "      <td>Audi</td>\n",
       "      <td>Audi A4 Sedan</td>\n",
       "      <td>$188,016</td>\n",
       "      <td>ReviewBought the 2019 minor facelift 2.0L AUDI...</td>\n",
       "      <td>Brownbeard</td>\n",
       "      <td>bought 2019 minor facelift 2.0l audi. first au...</td>\n",
       "    </tr>\n",
       "    <tr>\n",
       "      <th>4</th>\n",
       "      <td>Audi</td>\n",
       "      <td>Audi A4 Sedan</td>\n",
       "      <td>$188,016</td>\n",
       "      <td>What I like- Virtual Cockpit \\n- Handling\\n- E...</td>\n",
       "      <td>Dekit</td>\n",
       "      <td>like- virtual cockpit - handling- engine power...</td>\n",
       "    </tr>\n",
       "  </tbody>\n",
       "</table>\n",
       "</div>"
      ],
      "text/plain": [
       "  brand       car_name      price  \\\n",
       "0  Audi  Audi A4 Sedan  $188,016    \n",
       "1  Audi  Audi A4 Sedan  $188,016    \n",
       "2  Audi  Audi A4 Sedan  $188,016    \n",
       "3  Audi  Audi A4 Sedan  $188,016    \n",
       "4  Audi  Audi A4 Sedan  $188,016    \n",
       "\n",
       "                                              review    user_name  \\\n",
       "0  ReviewBought the 2019 facelift edition, whose ...  josephannnn   \n",
       "1  What I likePrice\\n\\nPowertrain and comfort. \\n...    maxsee333   \n",
       "2  What I do not like19.2 Km/L fuel consumption o...   Brownbeard   \n",
       "3  ReviewBought the 2019 minor facelift 2.0L AUDI...   Brownbeard   \n",
       "4  What I like- Virtual Cockpit \\n- Handling\\n- E...        Dekit   \n",
       "\n",
       "                                      review_cleaned  \n",
       "0  bought 2019 facelift edition, whose interior m...  \n",
       "1  likepricepowertrain comfort. 2019 new front di...  \n",
       "2  like19.2 km/l fuel consumption paper, however ...  \n",
       "3  bought 2019 minor facelift 2.0l audi. first au...  \n",
       "4  like- virtual cockpit - handling- engine power...  "
      ]
     },
     "execution_count": 315,
     "metadata": {},
     "output_type": "execute_result"
    }
   ],
   "source": [
    "df_mercs = pd.read_json (r'SGC_data/Mercedes-Benz.json')\n",
    "\n",
    "df_mercs = df.dropna()\n",
    "df_mercs.head()"
   ]
  },
  {
   "cell_type": "code",
   "execution_count": 295,
   "metadata": {},
   "outputs": [
    {
     "data": {
      "text/plain": [
       "[('mode', 0.2841448226149245),\n",
       " ('drive', 0.20603718904227114),\n",
       " ('comfort', 0.19298493064947617),\n",
       " ('fuel', 0.18687535561935906),\n",
       " ('want', 0.17085822082759677),\n",
       " ('series', 0.17085822082759666),\n",
       " ('price', 0.17085822082759633),\n",
       " ('car traffic', 0.15198499305586743),\n",
       " ('weird potential', 0.15198499305586727),\n",
       " ('thats', 0.14006007063656256),\n",
       " ('chrome', 0.14006007063656248)]"
      ]
     },
     "execution_count": 295,
     "metadata": {},
     "output_type": "execute_result"
    }
   ],
   "source": [
    "from nltk.tokenize import word_tokenize\n",
    "from rake_nltk import Rake\n",
    "from nltk.corpus import stopwords \n",
    "import gensim\n",
    "\n",
    "a = \" \".join(w for w in nltk.wordpunct_tokenize(df['review_cleaned'][6]) if w.lower() in words or not w.isalpha())\n",
    "keywords(a,scores=True)"
   ]
  },
  {
   "cell_type": "code",
   "execution_count": null,
   "metadata": {},
   "outputs": [],
   "source": []
  },
  {
   "cell_type": "code",
   "execution_count": null,
   "metadata": {},
   "outputs": [],
   "source": [
    "from gensim.summarization import keywords\n",
    "from gensim.summarization import summarizer\n",
    "words = set(nltk.corpus.words.words())\n",
    "\n",
    "a = \" \".join(w for w in nltk.wordpunct_tokenize(df['review_cleaned'][7]) if w.lower() in words or not w.isalpha())\n",
    "summarizer.summarize_corpus(df['review_cleaned'][7])"
   ]
  },
  {
   "cell_type": "code",
   "execution_count": 262,
   "metadata": {},
   "outputs": [],
   "source": [
    "df.to_csv(r'processed_data/cleaned_dataa.csv')"
   ]
  },
  {
   "cell_type": "code",
   "execution_count": 268,
   "metadata": {},
   "outputs": [
    {
     "data": {
      "text/plain": [
       "\"bought white audi q2 1.4 turbo tfsi engine last month appeared one best decisions i've made. traded 5 year old bmw 5 series honest, initially concerned space. owned mini cooper 3 series this. q2 course cannot compared cabin space 5 series. wanted something fun zippy drive. something power looks great road time fun drive without fuel guzzler. reviewing experience, i'd say q2 best worlds trendiness mini cooper moderness style audi. simply fun car i've driven! superb handling roads. interior cabin kept simple looking something techy elaborate might consider highest end model. fuel economy one beat. week drove 179km one bar (out 8 bars) petrol. full tank $90. love exterior daytime headlights well interior mood lighting allows play lights (just like old mini). mention fantastic sound system made b&o. fits 4 comfortably. 5 would squeeze. good enough mostly solo driver like me. all, looking stylish yet fun car renowned brand ticks right boxes burn huge hole pocket, q2 one you.\""
      ]
     },
     "execution_count": 268,
     "metadata": {},
     "output_type": "execute_result"
    }
   ],
   "source": [
    "df['review_cleaned'][8]"
   ]
  },
  {
   "cell_type": "code",
   "execution_count": null,
   "metadata": {},
   "outputs": [],
   "source": []
  },
  {
   "cell_type": "code",
   "execution_count": null,
   "metadata": {},
   "outputs": [],
   "source": []
  },
  {
   "cell_type": "code",
   "execution_count": null,
   "metadata": {},
   "outputs": [],
   "source": []
  }
 ],
 "metadata": {
  "kernelspec": {
   "display_name": "Python 3",
   "language": "python",
   "name": "python3"
  },
  "language_info": {
   "codemirror_mode": {
    "name": "ipython",
    "version": 3
   },
   "file_extension": ".py",
   "mimetype": "text/x-python",
   "name": "python",
   "nbconvert_exporter": "python",
   "pygments_lexer": "ipython3",
   "version": "3.7.3"
  }
 },
 "nbformat": 4,
 "nbformat_minor": 2
}
