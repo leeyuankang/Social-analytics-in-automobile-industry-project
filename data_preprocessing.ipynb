{
 "cells": [
  {
   "cell_type": "code",
   "execution_count": 1,
   "metadata": {},
   "outputs": [],
   "source": [
    "import pandas as pd\n",
    "import numpy as np\n",
    "import nltk\n",
    "from nltk.corpus import stopwords\n",
    "from nltk.tokenize import word_tokenize\n",
    "from nltk.stem import PorterStemmer "
   ]
  },
  {
   "cell_type": "code",
   "execution_count": 2,
   "metadata": {},
   "outputs": [
    {
     "name": "stdout",
     "output_type": "stream",
     "text": [
      "DF 1 Shape:  (682, 2)\n",
      "DF 2 Shape:  (2562, 2)\n",
      "DF 3 Shape:  (3276, 2)\n",
      "DF 4 Shape:  (25, 2)\n",
      "DF 5 Shape:  (42, 2)\n",
      "DF 6 Shape:  (188, 2)\n"
     ]
    },
    {
     "data": {
      "text/plain": [
       "(6775, 2)"
      ]
     },
     "execution_count": 2,
     "metadata": {},
     "output_type": "execute_result"
    }
   ],
   "source": [
    "df_1 = pd.read_json (r'data/2668830-new-2nd-generation-mercedes-b-class.json')\n",
    "df_2 = pd.read_json (r'data/2699114-mercedes-glc.json')\n",
    "df_3 = pd.read_json (r'data/2703413-mercedes-owners-thread.json')\n",
    "df_4 = pd.read_json (r'data/2709111-2020-mercedes-benz-maybach-gls-x167.json')\n",
    "df_5 = pd.read_json (r'data/2715945-mercedes-amg-most-powerful-4-cylinders-engine.json')\n",
    "df_6 = pd.read_json (r'data/2717175-2019-mercedes-benz-glb-x247.json')\n",
    "\n",
    "df = pd.concat([df_1, df_2, df_3, df_4, df_5, df_6])\n",
    "print(\"DF 1 Shape: \", df_1.shape)\n",
    "print(\"DF 2 Shape: \", df_2.shape)\n",
    "print(\"DF 3 Shape: \", df_3.shape)\n",
    "print(\"DF 4 Shape: \", df_4.shape)\n",
    "print(\"DF 5 Shape: \", df_5.shape)\n",
    "print(\"DF 6 Shape: \", df_6.shape)\n",
    "\n",
    "df.shape"
   ]
  },
  {
   "cell_type": "code",
   "execution_count": 3,
   "metadata": {},
   "outputs": [],
   "source": [
    "comments = df['comment'].str.lower()\n",
    "comments = comments.replace('\\n','', regex=True)\n",
    "comments = comments.replace('\\t','', regex=True)"
   ]
  },
  {
   "cell_type": "code",
   "execution_count": 4,
   "metadata": {},
   "outputs": [],
   "source": [
    "df['comment'] = comments\n",
    "\n",
    "# df_1.drop_duplicates(subset =\"comment\", \n",
    "#                      keep = False, inplace = True)\n",
    "\n",
    "# df_1.tail(20)"
   ]
  },
  {
   "cell_type": "code",
   "execution_count": 13,
   "metadata": {},
   "outputs": [
    {
     "name": "stdout",
     "output_type": "stream",
     "text": [
      "0      exterior step back.interior looks great!http:/...\n",
      "1                                looks like lower profil\n",
      "2                                 looks like toyota wish\n",
      "3                 exterior much changes, interior swee~!\n",
      "4      corporate styling cue c class dont know why, s...\n",
      "                             ...                        \n",
      "183                                                   ad\n",
      "184    9/16/2019 3:56 pm, carer said:addedcan please ...\n",
      "185                          added.. pls intro yourself.\n",
      "186                             pls add too. 93 65 20 25\n",
      "187    also new facebook group.https://www.facebook.c...\n",
      "Name: comment, Length: 6775, dtype: object\n"
     ]
    }
   ],
   "source": [
    "stop = stopwords.words('english')\n",
    "\n",
    "comment_without_stopwords = comments.apply(lambda x: ' '.join([word for word in x.split() if word not in (stop)]))\n",
    "\n",
    "# for i in range(len(comment_without_stopwords)):\n",
    "#     print(ps.stem(comment_without_stopwords[i]))\n",
    "    \n",
    "#Stemming\n",
    "ps = PorterStemmer()\n",
    "comment_without_stopwords_stemmed = comment_without_stopwords.apply(lambda x: ps.stem(x))\n",
    "print(comment_without_stopwords_stemmed)"
   ]
  },
  {
   "cell_type": "code",
   "execution_count": 16,
   "metadata": {
    "scrolled": true
   },
   "outputs": [],
   "source": [
    "df.insert(2, \"comment_without_stopwords_stemmed\", comment_without_stopwords_stemmed)"
   ]
  },
  {
   "cell_type": "code",
   "execution_count": 17,
   "metadata": {},
   "outputs": [
    {
     "data": {
      "text/html": [
       "<div>\n",
       "<style scoped>\n",
       "    .dataframe tbody tr th:only-of-type {\n",
       "        vertical-align: middle;\n",
       "    }\n",
       "\n",
       "    .dataframe tbody tr th {\n",
       "        vertical-align: top;\n",
       "    }\n",
       "\n",
       "    .dataframe thead th {\n",
       "        text-align: right;\n",
       "    }\n",
       "</style>\n",
       "<table border=\"1\" class=\"dataframe\">\n",
       "  <thead>\n",
       "    <tr style=\"text-align: right;\">\n",
       "      <th></th>\n",
       "      <th>userid</th>\n",
       "      <th>comment</th>\n",
       "      <th>comment_without_stopwords_stemmed</th>\n",
       "    </tr>\n",
       "  </thead>\n",
       "  <tbody>\n",
       "    <tr>\n",
       "      <td>0</td>\n",
       "      <td>Davidtkl</td>\n",
       "      <td>exterior is a step back.interior looks great!h...</td>\n",
       "      <td>exterior step back.interior looks great!http:/...</td>\n",
       "    </tr>\n",
       "    <tr>\n",
       "      <td>1</td>\n",
       "      <td>Ithunk</td>\n",
       "      <td>looks like it has a lower profile</td>\n",
       "      <td>looks like lower profil</td>\n",
       "    </tr>\n",
       "    <tr>\n",
       "      <td>2</td>\n",
       "      <td>Mecontle</td>\n",
       "      <td>looks like toyota wish</td>\n",
       "      <td>looks like toyota wish</td>\n",
       "    </tr>\n",
       "    <tr>\n",
       "      <td>3</td>\n",
       "      <td>Old-driver</td>\n",
       "      <td>exterior not so much changes, but interior is ...</td>\n",
       "      <td>exterior much changes, interior swee~!</td>\n",
       "    </tr>\n",
       "    <tr>\n",
       "      <td>4</td>\n",
       "      <td>Happily1986</td>\n",
       "      <td>corporate styling cue from c class but i dont ...</td>\n",
       "      <td>corporate styling cue c class dont know why, s...</td>\n",
       "    </tr>\n",
       "  </tbody>\n",
       "</table>\n",
       "</div>"
      ],
      "text/plain": [
       "        userid                                            comment  \\\n",
       "0     Davidtkl  exterior is a step back.interior looks great!h...   \n",
       "1       Ithunk                looks like it has a lower profile     \n",
       "2     Mecontle                             looks like toyota wish   \n",
       "3   Old-driver  exterior not so much changes, but interior is ...   \n",
       "4  Happily1986  corporate styling cue from c class but i dont ...   \n",
       "\n",
       "                   comment_without_stopwords_stemmed  \n",
       "0  exterior step back.interior looks great!http:/...  \n",
       "1                            looks like lower profil  \n",
       "2                             looks like toyota wish  \n",
       "3             exterior much changes, interior swee~!  \n",
       "4  corporate styling cue c class dont know why, s...  "
      ]
     },
     "execution_count": 17,
     "metadata": {},
     "output_type": "execute_result"
    }
   ],
   "source": [
    "df.head()"
   ]
  },
  {
   "cell_type": "code",
   "execution_count": null,
   "metadata": {},
   "outputs": [],
   "source": [
    "# comment_without_stopwords\n",
    "# comment_without_stopwords.apply(lambda x: print(x))"
   ]
  },
  {
   "cell_type": "code",
   "execution_count": 18,
   "metadata": {},
   "outputs": [],
   "source": [
    "df.to_csv(r'processed_data/cleaned_data.csv')"
   ]
  },
  {
   "cell_type": "code",
   "execution_count": null,
   "metadata": {},
   "outputs": [],
   "source": []
  }
 ],
 "metadata": {
  "kernelspec": {
   "display_name": "Python 3",
   "language": "python",
   "name": "python3"
  },
  "language_info": {
   "codemirror_mode": {
    "name": "ipython",
    "version": 3
   },
   "file_extension": ".py",
   "mimetype": "text/x-python",
   "name": "python",
   "nbconvert_exporter": "python",
   "pygments_lexer": "ipython3",
   "version": "3.7.3"
  }
 },
 "nbformat": 4,
 "nbformat_minor": 2
}
